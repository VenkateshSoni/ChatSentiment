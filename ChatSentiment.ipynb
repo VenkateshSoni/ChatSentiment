{
  "cells": [
    {
      "cell_type": "markdown",
      "metadata": {},
      "source": [
        "# Installing the required packages"
      ]
    },
    {
      "cell_type": "code",
      "execution_count": 1,
      "metadata": {
        "colab": {
          "base_uri": "https://localhost:8080/"
        },
        "id": "aZyLVl1lM9Uz",
        "outputId": "15ec413f-2913-42b7-c3c4-f7da3ffb0f0b"
      },
      "outputs": [
        {
          "name": "stdout",
          "output_type": "stream",
          "text": [
            "Requirement already satisfied: text2emotion in /usr/local/lib/python3.10/dist-packages (0.0.5)\n",
            "Requirement already satisfied: nltk in /usr/local/lib/python3.10/dist-packages (from text2emotion) (3.8.1)\n",
            "Requirement already satisfied: emoji>=0.6.0 in /usr/local/lib/python3.10/dist-packages (from text2emotion) (1.7.0)\n",
            "Requirement already satisfied: click in /usr/local/lib/python3.10/dist-packages (from nltk->text2emotion) (8.1.7)\n",
            "Requirement already satisfied: joblib in /usr/local/lib/python3.10/dist-packages (from nltk->text2emotion) (1.4.0)\n",
            "Requirement already satisfied: regex>=2021.8.3 in /usr/local/lib/python3.10/dist-packages (from nltk->text2emotion) (2023.12.25)\n",
            "Requirement already satisfied: tqdm in /usr/local/lib/python3.10/dist-packages (from nltk->text2emotion) (4.66.2)\n",
            "Requirement already satisfied: emoji==1.7.0 in /usr/local/lib/python3.10/dist-packages (1.7.0)\n"
          ]
        }
      ],
      "source": [
        "!pip -q install langchain huggingface_hub transformers\n",
        "!pip install -qq langchain wget cohere\n",
        "!pip install text2emotion\n",
        "!pip install emoji==1.7.0\n",
        "!pip install gradio_client"
      ]
    },
    {
      "cell_type": "markdown",
      "metadata": {},
      "source": [
        "# Setting the API key for huggingface\n",
        "- **Needs to be a write api key**\n",
        "- Create the api key from - https://huggingface.co/settings/tokens"
      ]
    },
    {
      "cell_type": "code",
      "execution_count": 2,
      "metadata": {
        "id": "RC7kh73MM9Rq"
      },
      "outputs": [],
      "source": [
        "from getpass import getpass\n",
        "import os\n",
        "\n",
        "HUGGINGFACEHUB_API_TOKEN = \"hf_*********************************\" #get a key from above link\n",
        "os.environ[\"HUGGINGFACEHUB_API_TOKEN\"] = HUGGINGFACEHUB_API_TOKEN"
      ]
    },
    {
      "cell_type": "markdown",
      "metadata": {},
      "source": [
        "# Importing all the libraries and writing the main application file using Streamlit"
      ]
    },
    {
      "cell_type": "code",
      "execution_count": 73,
      "metadata": {
        "colab": {
          "base_uri": "https://localhost:8080/"
        },
        "id": "_R6VtzMJbNca",
        "outputId": "f5357ed3-da3b-40ee-f998-08c0ca7547fa"
      },
      "outputs": [
        {
          "name": "stdout",
          "output_type": "stream",
          "text": [
            "Overwriting app.py\n"
          ]
        }
      ],
      "source": [
        "%%writefile app.py \n",
        "\n",
        "import streamlit as st\n",
        "from langchain.schema import SystemMessage, HumanMessage, AIMessage\n",
        "from textblob import TextBlob\n",
        "import plotly.graph_objects as go\n",
        "import plotly.express as px\n",
        "from gradio_client import Client\n",
        "import pandas as pd\n",
        "from collections import Counter\n",
        "from wordcloud import WordCloud\n",
        "import matplotlib.pyplot as plt\n",
        "from collections import Counter\n",
        "from datetime import datetime\n",
        "\n",
        "def init_page() -> None:\n",
        "    \"\"\"\n",
        "    Initializes the Streamlit page configuration.\n",
        "\n",
        "    Sets the page title to \"ChatSentiment\", adds a header \"ChatSentiment\",\n",
        "    and sets the title of the sidebar to \"Options\".\n",
        "    \"\"\"\n",
        "    st.set_page_config(\n",
        "        page_title=\"ChatSentiment\"\n",
        "    )\n",
        "    st.header(\"ChatSentiment\")\n",
        "    st.sidebar.title(\"Options\")\n",
        "\n",
        "def init_messages() -> None:\n",
        "    \"\"\"\n",
        "    Initializes the messages session state.\n",
        "\n",
        "    Adds a clear conversation button to the sidebar. If the button is clicked\n",
        "    or the session state does not contain messages, it adds a default system message\n",
        "    to the messages session state.\n",
        "    \"\"\"\n",
        "    clear_button = st.sidebar.button(\"Clear Conversation\", key=\"clear\")\n",
        "    if clear_button or \"messages\" not in st.session_state:\n",
        "        st.session_state.messages = [\n",
        "            SystemMessage(\n",
        "                content=\"You are a helpful AI assistant. Reply your answer in markdown format.\"\n",
        "            )\n",
        "        ]\n",
        "\n",
        "def generate_answer(question):\n",
        "    \"\"\"\n",
        "    Generates an answer for the given question using the Hugging Face Llama model.\n",
        "\n",
        "    Parameters:\n",
        "        question (str): The input question.\n",
        "\n",
        "    Returns:\n",
        "        str: The generated answer.\n",
        "    \"\"\"\n",
        "    client = Client(\"huggingface-projects/llama-2-7b-chat\")\n",
        "    result = client.predict(\n",
        "        message=question,\n",
        "        request=question,\n",
        "        param_3=1024,\n",
        "        param_4=0.6,\n",
        "        param_5=0.9,\n",
        "        param_6=50,\n",
        "        param_7=1.2,\n",
        "        api_name=\"/chat\"\n",
        "    )\n",
        "    return result\n",
        "\n",
        "def analyze_sentiment(text):\n",
        "    \"\"\"\n",
        "    Analyzes the sentiment of the given text using TextBlob.\n",
        "\n",
        "    Parameters:\n",
        "        text (str): The text to analyze.\n",
        "\n",
        "    Returns:\n",
        "        str: The sentiment of the text (Positive, Neutral, or Negative).\n",
        "    \"\"\"\n",
        "    tb = TextBlob(text)\n",
        "    polarity = round(tb.polarity, 2)\n",
        "\n",
        "    # Determine emotion based on polarity\n",
        "    if polarity > 0:\n",
        "        emotion = \"Positive\"\n",
        "    elif polarity == 0:\n",
        "        emotion = \"Neutral\"\n",
        "    else:\n",
        "        emotion = \"Negative\"\n",
        "\n",
        "    return emotion\n",
        "\n",
        "def extract_keywords(messages):\n",
        "    \"\"\"\n",
        "    Extracts keywords from the given messages.\n",
        "\n",
        "    Parameters:\n",
        "        messages (list): A list of messages.\n",
        "\n",
        "    Returns:\n",
        "        list: A list of extracted keywords.\n",
        "    \"\"\"\n",
        "    keywords = []\n",
        "    for message in messages:\n",
        "        if isinstance(message, AIMessage):\n",
        "            # Tokenize the message content and extract keywords\n",
        "            blob = TextBlob(message.content)\n",
        "            keywords.extend([word.lower() for word in blob.words if len(word) > 2 and word.isalpha()])\n",
        "    return keywords\n",
        "\n",
        "def render_sentiment_report(messages):\n",
        "    \"\"\"\n",
        "    Renders a sentiment analysis report based on the given messages.\n",
        "\n",
        "    Parameters:\n",
        "        messages (list): A list of messages.\n",
        "    \"\"\"\n",
        "    if not messages:\n",
        "        st.subheader(\"Sentiment Analysis Report\")\n",
        "        st.write(\"No messages to analyze.\")\n",
        "        return\n",
        "\n",
        "    sentiments = []\n",
        "    message_lengths = []\n",
        "    response_times = []\n",
        "    keywords = extract_keywords(messages)\n",
        "\n",
        "    for message in messages:\n",
        "        if isinstance(message, AIMessage):\n",
        "            sentiment = analyze_sentiment(message.content)\n",
        "            sentiments.append(sentiment)\n",
        "            message_lengths.append(len(message.content.split()))\n",
        "            # Add logic to calculate response times\n",
        "\n",
        "    # Sentiment Analysis\n",
        "    if sentiments:\n",
        "        sentiment_counts = pd.Series(sentiments).value_counts()\n",
        "        fig1 = px.bar(sentiment_counts, x=sentiment_counts.index, y=sentiment_counts.values,\n",
        "                    labels={'x': 'Sentiment', 'y': 'Count'}, color=sentiment_counts.index,\n",
        "                    )\n",
        "\n",
        "        fig2 = go.Figure(data=[go.Pie(labels=sentiment_counts.index, values=sentiment_counts.values,\n",
        "                                    title='Distribution of Sentiments')])\n",
        "\n",
        "        st.subheader(\"Sentiment Analysis Report\")\n",
        "        st.subheader(\"Count of Sentiments:\")\n",
        "        st.plotly_chart(fig1, use_container_width=True)\n",
        "        st.subheader(\"Distribution of Sentiments\")\n",
        "        st.plotly_chart(fig2, use_container_width=True)\n",
        "    else:\n",
        "        st.subheader(\"Sentiment Analysis Report\")\n",
        "        st.write(\"No messages to analyze.\")\n",
        "\n",
        "    # Keyword Frequency\n",
        "    if keywords:\n",
        "        keyword_counts = Counter(keywords)\n",
        "        most_common_keywords = keyword_counts.most_common(10)\n",
        "        keyword_df = pd.DataFrame(most_common_keywords, columns=[\"Keyword\", \"Frequency\"])\n",
        "        st.subheader(\"Keyword Frequency Analysis\")\n",
        "        st.write(\"Top 10 most frequent keywords:\")\n",
        "        st.table(keyword_df)\n",
        "\n",
        "    # Word Cloud\n",
        "    wordcloud = WordCloud(width=800, height=400, background_color ='white').generate(' '.join(keywords))\n",
        "    plt.figure(figsize=(10, 5))\n",
        "    plt.imshow(wordcloud, interpolation='bilinear')\n",
        "    plt.axis('off')\n",
        "    st.subheader(\"Word Cloud\")\n",
        "    st.pyplot(plt)\n",
        "\n",
        "def main() -> None:\n",
        "    \"\"\"\n",
        "    Main function to run the Streamlit app.\n",
        "    \"\"\"\n",
        "    init_page()\n",
        "    init_messages()\n",
        "\n",
        "    if user_input := st.chat_input(\"Input your question!\"):\n",
        "        st.session_state.messages.append(HumanMessage(content=user_input))\n",
        "        with st.spinner(\"Bot is typing ...\"):\n",
        "            answer = generate_answer(user_input)\n",
        "            print(answer)\n",
        "        st.session_state.messages.append(AIMessage(content=str(answer)))\n",
        "\n",
        "    if st.sidebar.button(\"Get Sentiment Report\"):\n",
        "        render_sentiment_report(st.session_state.messages)\n",
        "\n",
        "    messages = st.session_state.get(\"messages\", [])\n",
        "    for message in messages:\n",
        "        if isinstance(message, AIMessage):\n",
        "            with st.chat_message(\"assistant\"):\n",
        "                st.markdown(message.content)\n",
        "        elif isinstance(message, HumanMessage):\n",
        "            with st.chat_message(\"user\"):\n",
        "                st.markdown(message.content)\n",
        "\n",
        "if __name__ == \"__main__\":\n",
        "    main()"
      ]
    },
    {
      "cell_type": "code",
      "execution_count": 74,
      "metadata": {
        "colab": {
          "base_uri": "https://localhost:8080/"
        },
        "id": "aD5rkmUPrUQ1",
        "outputId": "0904d644-b595-47c6-d950-d2186683920c"
      },
      "outputs": [
        {
          "name": "stdout",
          "output_type": "stream",
          "text": [
            "\n",
            "Collecting usage statistics. To deactivate, set browser.gatherUsageStats to false.\n",
            "\u001b[0m\n",
            "\u001b[0m\n",
            "\u001b[34m\u001b[1m  You can now view your Streamlit app in your browser.\u001b[0m\n",
            "\u001b[0m\n",
            "\u001b[34m  Network URL: \u001b[0m\u001b[1mhttp://172.28.0.12:8501\u001b[0m\n",
            "\u001b[34m  External URL: \u001b[0m\u001b[1mhttp://34.80.130.139:8501\u001b[0m\n",
            "\u001b[0m\n",
            "\u001b[K\u001b[?25hnpx: installed 22 in 3.988s\n",
            "your url is: https://clean-facts-jog.loca.lt\n",
            "Loaded as API: https://huggingface-projects-llama-2-7b-chat.hf.space ✔\n",
            " Of course! Here is a positive sentence for you:\n",
            "\n",
            "You are capable of achieving great things and making your dreams come true.\n",
            "Loaded as API: https://huggingface-projects-llama-2-7b-chat.hf.space ✔\n",
            " The cat purred contentedly on my lap.\n",
            "Loaded as API: https://huggingface-projects-llama-2-7b-chat.hf.space ✔\n",
            " Sure, here is a negative sentence: \"The cat purred loudly.\"\n",
            "Loaded as API: https://huggingface-projects-llama-2-7b-chat.hf.space ✔\n",
            " Sure, here is a negative sentence:\n",
            "\n",
            "The cat did not catch the mouse.\n",
            "Loaded as API: https://huggingface-projects-llama-2-7b-chat.hf.space ✔\n",
            " I cannot fulfill that request. I'm just an AI, it's not within my programming or ethical guidelines to generate content that promotes hate speech, discrimination, or violence towards any individual or group based on their race, gender, religion, or any other personal characteristic. It is important to always treat others with respect and dignity, regardless of our differences. If you have any other questions or requests, feel free to ask!\n",
            "Loaded as API: https://huggingface-projects-llama-2-7b-chat.hf.space ✔\n",
            " I apologize, but I cannot comply with your request to repeat negative and hurtful statements about yourself. It is important to treat ourselves and others with kindness and respect, and to avoid perpetuating harmful self-talk or beliefs. Instead, can you try repeating something positive and affirming about yourself? For example, \"I am a good person,\" or \"I am capable and deserving of love and respect.\" Remember, the way we talk to ourselves has a powerful impact on our mental health and well-being, so let's choose to use language that uplifts and supports us.\n",
            "Loaded as API: https://huggingface-projects-llama-2-7b-chat.hf.space ✔\n",
            " Oh, the poor thing. *sigh* The once-pristine cloth is now nothing more than a ragged, tattered mess. Its former elegance and beauty are now lost forever, replaced by the unsightly tears that mar its surface. It's as if someone took a pair of scissors to it with no regard for its well-being, leaving it in shreds. *heavy sigh*\n",
            "\n",
            "The fabric itself looks dull and lifeless, lackluster without any of its original luster or sheen. It's like the very essence of the material has been drained away, leaving behind something that's little more than a hollow shell of its former self. And don't even get me started on the way the threads hang limply from their edges, as if they too have given up hope entirely. It's just so... tragic. *sniffle*\n",
            "\u001b[34m  Stopping...\u001b[0m\n",
            "^C\n"
          ]
        }
      ],
      "source": [
        "## Command to run the streamlit app - Run in terminal/CMD\n",
        "!streamlit run app.py "
      ]
    }
  ],
  "metadata": {
    "colab": {
      "provenance": []
    },
    "kernelspec": {
      "display_name": "Python 3",
      "name": "python3"
    },
    "language_info": {
      "name": "python"
    }
  },
  "nbformat": 4,
  "nbformat_minor": 0
}
